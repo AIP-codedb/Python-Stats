{
 "cells": [
  {
   "cell_type": "code",
   "execution_count": 2,
   "id": "e847f4bd",
   "metadata": {},
   "outputs": [],
   "source": [
    "import numpy as np "
   ]
  },
  {
   "cell_type": "code",
   "execution_count": 3,
   "id": "caeea762",
   "metadata": {},
   "outputs": [],
   "source": [
    "z = 1.96\n",
    "p = .40\n",
    "n = 659"
   ]
  },
  {
   "cell_type": "code",
   "execution_count": 4,
   "id": "ae8be7fb",
   "metadata": {},
   "outputs": [],
   "source": [
    "se  = np.sqrt(p*(1-p)/n)"
   ]
  },
  {
   "cell_type": "code",
   "execution_count": 5,
   "id": "dc69def8",
   "metadata": {},
   "outputs": [
    {
     "name": "stdout",
     "output_type": "stream",
     "text": [
      "0.36259591933519336 0.4374040806648067\n"
     ]
    }
   ],
   "source": [
    "LCI = p-z*se\n",
    "UCI = p+z*se\n",
    "print(LCI,UCI)"
   ]
  },
  {
   "cell_type": "code",
   "execution_count": 6,
   "id": "86121f8e",
   "metadata": {},
   "outputs": [],
   "source": [
    "import statsmodels.api as sm "
   ]
  },
  {
   "cell_type": "code",
   "execution_count": 8,
   "id": "626ec702",
   "metadata": {},
   "outputs": [
    {
     "data": {
      "text/plain": [
       "(0.36259660664395305, 0.437403393356047)"
      ]
     },
     "execution_count": 8,
     "metadata": {},
     "output_type": "execute_result"
    }
   ],
   "source": [
    "sm.stats.proportion_confint(n*p,n)"
   ]
  },
  {
   "cell_type": "code",
   "execution_count": 11,
   "id": "22b1ea01",
   "metadata": {},
   "outputs": [
    {
     "data": {
      "text/plain": [
       "1112.0"
      ]
     },
     "execution_count": 11,
     "metadata": {},
     "output_type": "execute_result"
    }
   ],
   "source": [
    "np.ceil((1/0.03)**2)"
   ]
  },
  {
   "cell_type": "code",
   "execution_count": 13,
   "id": "2e9478ec",
   "metadata": {},
   "outputs": [
    {
     "data": {
      "text/plain": [
       "1849.0"
      ]
     },
     "execution_count": 13,
     "metadata": {},
     "output_type": "execute_result"
    }
   ],
   "source": [
    "np.ceil(1/(2*(0.03/2.576)))**2"
   ]
  },
  {
   "cell_type": "code",
   "execution_count": 26,
   "id": "0cdaf50c",
   "metadata": {},
   "outputs": [
    {
     "data": {
      "text/plain": [
       "553"
      ]
     },
     "execution_count": 26,
     "metadata": {},
     "output_type": "execute_result"
    }
   ],
   "source": [
    "247+308-2"
   ]
  },
  {
   "cell_type": "code",
   "execution_count": 14,
   "id": "c8530672",
   "metadata": {},
   "outputs": [],
   "source": [
    "n1 = 247\n",
    "p1 = .37\n",
    "\n",
    "n2 = 308\n",
    "p2 = .39"
   ]
  },
  {
   "cell_type": "code",
   "execution_count": 21,
   "id": "3e6c9178",
   "metadata": {},
   "outputs": [],
   "source": [
    "pop1 = np.random.binomial(1,p1,n1)"
   ]
  },
  {
   "cell_type": "code",
   "execution_count": 22,
   "id": "b17c0c53",
   "metadata": {},
   "outputs": [],
   "source": [
    "pop2 = np.random.binomial(1,p2,n2)"
   ]
  },
  {
   "cell_type": "code",
   "execution_count": 24,
   "id": "bf43552e",
   "metadata": {},
   "outputs": [
    {
     "data": {
      "text/plain": [
       "(-0.5552519905785613, 0.5789468440573932, 553.0)"
      ]
     },
     "execution_count": 24,
     "metadata": {},
     "output_type": "execute_result"
    }
   ],
   "source": [
    "sm.stats.ttest_ind(pop1,pop2)"
   ]
  },
  {
   "cell_type": "code",
   "execution_count": 25,
   "id": "23fd92e1",
   "metadata": {},
   "outputs": [],
   "source": [
    "sm.stats.ttest_ind?"
   ]
  },
  {
   "cell_type": "code",
   "execution_count": null,
   "id": "b2ebe444",
   "metadata": {},
   "outputs": [],
   "source": []
  }
 ],
 "metadata": {
  "kernelspec": {
   "display_name": "Python 3",
   "language": "python",
   "name": "python3"
  },
  "language_info": {
   "codemirror_mode": {
    "name": "ipython",
    "version": 3
   },
   "file_extension": ".py",
   "mimetype": "text/x-python",
   "name": "python",
   "nbconvert_exporter": "python",
   "pygments_lexer": "ipython3",
   "version": "3.7.0"
  }
 },
 "nbformat": 4,
 "nbformat_minor": 5
}
